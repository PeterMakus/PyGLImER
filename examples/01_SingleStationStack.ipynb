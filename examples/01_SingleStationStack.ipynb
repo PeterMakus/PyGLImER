{
 "cells": [
  {
   "cell_type": "markdown",
   "metadata": {},
   "source": [
    "# Single Station Stacking\n",
    "\n",
    "This notebook assumes that you have gone through the database creation and\n",
    "can start using the traces at you disposal.\n",
    "\n",
    "## Load a station into an RFStream"
   ]
  },
  {
   "cell_type": "code",
   "execution_count": null,
   "metadata": {},
   "outputs": [],
   "source": [
    "from pyglimer.rf.create import read_rf\n",
    "from utils.plot_utils import plot_section\n",
    "from utils.plot_utils import set_mpl_params\n",
    "set_mpl_params()\n",
    "\n",
    "rfst = read_rf(\"database/RF/P/IU/HRV/*.sac\")\n",
    "\n",
    "# Check one Trace\n",
    "rfst.plot()"
   ]
  },
  {
   "cell_type": "markdown",
   "metadata": {},
   "source": [
    "## Moveout Correction\n",
    "\n",
    "To stack the receiver functions, we need to perform moveout correction. To do this we use a\n",
    "built-in velocity model. Here, `iasp91.dat`.\n",
    "\n",
    "---\n",
    "***NOTE:***\n",
    "It is currently loaded from within the repo, therefore we change the path and back before doing anything.\n",
    "\n",
    "---"
   ]
  },
  {
   "cell_type": "code",
   "execution_count": 2,
   "metadata": {},
   "outputs": [
    {
     "name": "stdout",
     "output_type": "stream",
     "text": [
      "/Users/lucassawade/OneDrive/Research/PyGLImER/examples\n",
      "/Users/lucassawade/OneDrive/Research/PyGLImER\n",
      "/Users/lucassawade/OneDrive/Research/PyGLImER/examples\n"
     ]
    }
   ],
   "source": [
    "import os\n",
    "from pyglimer import RFStream \n",
    "\n",
    "def chdir(func, rpath=\"..\"):\n",
    "    def wrapper_chdir(*args, **kwargs):\n",
    "        \n",
    "        # Get dir\n",
    "        cw = os.path.abspath(os.getcwd())\n",
    "        print(os.path.abspath(os.getcwd()))        \n",
    "        # Change dir\n",
    "        os.chdir(os.path.join(cw, rpath))\n",
    "        print(os.path.abspath(os.getcwd()))\n",
    "        \n",
    "        # Exectute function\n",
    "        func(*args, **kwargs)\n",
    "        \n",
    "        # Change back\n",
    "        os.chdir(cw)\n",
    "        print(os.path.abspath(os.getcwd()))\n",
    "        \n",
    "    return wrapper_chdir\n",
    "\n",
    "mymoveout = chdir(RFStream.moveout)\n",
    "rfst.moveout = mymoveout\n",
    "rfst.moveout(rfst, \"iasp91.dat\")"
   ]
  },
  {
   "cell_type": "markdown",
   "metadata": {},
   "source": [
    "## Creating a single station stack"
   ]
  },
  {
   "cell_type": "code",
   "execution_count": 16,
   "metadata": {},
   "outputs": [],
   "source": []
  },
  {
   "cell_type": "code",
   "execution_count": 16,
   "metadata": {},
   "outputs": [],
   "source": [
    "%load_ext autoreload\n",
    "%autoreload 2"
   ]
  },
  {
   "cell_type": "code",
   "execution_count": 17,
   "metadata": {},
   "outputs": [
    {
     "data": {
      "text/plain": [
       "'/Users/lucassawade/OneDrive/Research/PyGLImER/examples'"
      ]
     },
     "execution_count": 17,
     "metadata": {},
     "output_type": "execute_result"
    }
   ],
   "source": [
    "pwd"
   ]
  },
  {
   "cell_type": "code",
   "execution_count": null,
   "metadata": {},
   "outputs": [],
   "source": [
    "%reset"
   ]
  },
  {
   "cell_type": "code",
   "execution_count": 11,
   "metadata": {},
   "outputs": [
    {
     "data": {
      "text/plain": [
       "'/Users/lucassawade'"
      ]
     },
     "execution_count": 11,
     "metadata": {},
     "output_type": "execute_result"
    }
   ],
   "source": [
    "pwd"
   ]
  },
  {
   "cell_type": "code",
   "execution_count": null,
   "metadata": {},
   "outputs": [],
   "source": [
    "os.cha"
   ]
  }
 ],
 "metadata": {
  "kernelspec": {
   "display_name": "Python 3",
   "language": "python",
   "name": "python3"
  },
  "language_info": {
   "codemirror_mode": {
    "name": "ipython",
    "version": 3
   },
   "file_extension": ".py",
   "mimetype": "text/x-python",
   "name": "python",
   "nbconvert_exporter": "python",
   "pygments_lexer": "ipython3",
   "version": "3.8.3"
  }
 },
 "nbformat": 4,
 "nbformat_minor": 4
}
