{
  "cells": [
    {
      "cell_type": "code",
      "execution_count": null,
      "metadata": {
        "collapsed": false
      },
      "outputs": [],
      "source": [
        "%matplotlib inline"
      ]
    },
    {
      "cell_type": "markdown",
      "metadata": {},
      "source": [
        "\n# HDF5 Database\n\nThis example is nearly identical to the MSEED tutorial except the fact that we\nare specifying a different data format in the request dictionary.\n\n## Downloading Event & Station Metadata\n\nIn this section, the only difference is the ``format`` ``key`` in the\n``request_dict`` that is set to ``hdf5``.\n"
      ]
    },
    {
      "cell_type": "code",
      "execution_count": null,
      "metadata": {
        "collapsed": false
      },
      "outputs": [],
      "source": [
        "# sphinx_gallery_thumbnail_number = 1\n# sphinx_gallery_dummy_images = 1"
      ]
    },
    {
      "cell_type": "markdown",
      "metadata": {},
      "source": [
        "First let's get a path where to create the data.\n\n"
      ]
    },
    {
      "cell_type": "code",
      "execution_count": null,
      "metadata": {
        "collapsed": false
      },
      "outputs": [],
      "source": [
        "# Some needed Imports\nimport os\nfrom typing import NewType\nfrom obspy import UTCDateTime\nfrom pyglimer.waveform.request import Request\n\n# Get notebook path for future reference of the database:\n# Get notebook path for future reference of the database:\ntry: db_base_path = ipynb_path\nexcept NameError:\n    try: db_base_path = os.path.dirname(os.path.realpath(__file__))\n    except NameError: db_base_path = os.getcwd()\n\n# Define file locations\nproj_dir = os.path.join(db_base_path, 'tmp', 'database_hdf5')\n\n# Define network and station to download RFs for\nnetwork = 'IU'\nstation = 'HRV'\n\nrequest_dict = {\n    # Necessary arguments\n    'proj_dir': proj_dir,\n    'raw_subdir': os.path.join('waveforms', 'raw'),# Directory of the waveforms\n    'prepro_subdir': os.path.join('waveforms', 'preprocessed'),  # Directory of the preprocessed waveforms\n    'rf_subdir': os.path.join('waveforms', 'RF'),  # Directory of the receiver functions\n    'statloc_subdir': 'stations', # Directory stations\n    'evt_subdir': 'events',       # Directory of the events\n    'log_subdir': 'log',          # Directory for the logs\n    'loglvl': 'WARNING',          # logging level\n    'format': 'hdf5',              # Format to save database in\n    \"phase\": \"P\",                 # 'P' or 'S' receiver functions\n    \"rot\": \"RTZ\",                 # Coordinate system to rotate to\n    \"deconmeth\": \"waterlevel\",    # Deconvolution method\n    \"starttime\": UTCDateTime(2021, 1, 1, 0, 0, 0), # Starttime of database.\n                                                # Here, starttime of HRV\n    \"endtime\": UTCDateTime(2021, 7, 1, 0, 0, 0), # Endtimetime of database\n    # kwargs below\n    \"pol\": 'v',                   # Source wavelet polaristion. Def. \"v\" --> SV\n    \"minmag\": 5.5,                # Earthquake minimum magnitude. Def. 5.5\n    \"event_coords\": None,         # Specific event?. Def. None\n    \"network\": network,              # Restricts networks. Def. None\n    \"station\": station,             # Restricts stations. Def. None\n    \"waveform_client\": [\"IRIS\"],  # FDSN server client (s. obspy). Def. None\n    \"evtcat\": None,               # If you have already downloaded a set of\n                                # events previously, you can use them here\n}"
      ]
    },
    {
      "cell_type": "markdown",
      "metadata": {},
      "source": [
        "Now that all parameters are in place, let's initialize the \n:class:`pyglimer.waveform.request.Request`\n\n"
      ]
    },
    {
      "cell_type": "code",
      "execution_count": null,
      "metadata": {
        "collapsed": false
      },
      "outputs": [],
      "source": [
        "# Initializing the Request class and downloading the data\nR = Request(**request_dict)"
      ]
    },
    {
      "cell_type": "markdown",
      "metadata": {},
      "source": [
        "The initialization will look for all events for which data is available. To see \nwhether the events make sense we plot a map of the events:\n\n"
      ]
    },
    {
      "cell_type": "code",
      "execution_count": null,
      "metadata": {
        "collapsed": false
      },
      "outputs": [],
      "source": [
        "import matplotlib.pyplot as plt\nfrom pyglimer.plot.plot_utils import plot_catalog\nfrom pyglimer.plot.plot_utils import set_mpl_params\n\n# Setting plotting parameters\nset_mpl_params()\n\n# Plotting the catalog\nplot_catalog(R.evtcat)"
      ]
    },
    {
      "cell_type": "markdown",
      "metadata": {},
      "source": [
        "We can also quickly check how many events we gathered.\n\n"
      ]
    },
    {
      "cell_type": "code",
      "execution_count": null,
      "metadata": {
        "collapsed": false
      },
      "outputs": [],
      "source": [
        "print(f\"There are {len(R.evtcat)} available events\")"
      ]
    },
    {
      "cell_type": "markdown",
      "metadata": {},
      "source": [
        "-------------------------------------------------\n\nAgain, this section does not really change, because the ``request_dict``\nparsed all needed information to :class:`pyglimer.waveform.request.Request`.\n\n"
      ]
    },
    {
      "cell_type": "code",
      "execution_count": null,
      "metadata": {
        "collapsed": false
      },
      "outputs": [],
      "source": [
        "R.download_waveforms_small_db(channel='BH?')"
      ]
    },
    {
      "cell_type": "markdown",
      "metadata": {},
      "source": [
        "there is indeed a change in the code because we saved the raw data in form of\n``ASDFDataset``s and we need to actually access the ``hdf5`` file that we\nto count how many traces it contains.\n\n"
      ]
    },
    {
      "cell_type": "code",
      "execution_count": null,
      "metadata": {
        "collapsed": false
      },
      "outputs": [],
      "source": [
        "# Import ASDFDataset\nfrom pyasdf import ASDFDataSet\n\n# Path to the where the miniseeds are stored\ndata_storage = os.path.join(\n    proj_dir, 'waveforms', 'raw', 'P', f'{network}.{station}.h5')\n\n# Read the data from the station ``h5`` file\nwith ASDFDataSet(data_storage, mode='r', mpi=False) as ds:\n\n    # Perform waveform query on ASDFDataSet\n    stream = ds.get_waveforms(\n        network,\n        station,\n        '*', # Location\n        '*', # Channel\n        request_dict['starttime']-1000,  # Starttime \n        request_dict['endtime']+1000,    # Endtime\n        'raw_recording')\n\n# Print output\nprint(f\"Number of downloaded waveforms: {len(stream)}\")"
      ]
    },
    {
      "cell_type": "markdown",
      "metadata": {},
      "source": [
        "The final step to get you receiver function data is the preprocessing. \nAlthough it is hidden in a single function, which\nis :func:`pyglimer.waveform.request.Request.preprocess`\nA lot of decisions are being made:\n\nProcessing steps:\n1. Clips waveform to the right length (tz before and ta after theorethical \narrival.)\n2. Demean & Detrend\n3. Tapering\n4. Remove Instrument response, convert to velocity &\nsimulate havard station\n5. Rotation to NEZ and, subsequently, to RTZ.\n6. Compute SNR for highpass filtered waveforms (highpass f defined in \nqc.lowco) If SNR lower than in qc.SNR_criteria for all filters, rejects \nwaveform.\n7. Write finished and filtered waveforms to folder\nspecified in qc.outputloc.\n8. Write info file with shelf containing station,\nevent and waveform information.\n9. (Optional) If we had chosen a different coordinate system in ``rot``\nthan RTZ, it would now cast the preprocessed waveforms information\nthat very coordinate system.\n10. Deconvolution with method ``deconmeth`` from our dict is perfomed.\n\n\n"
      ]
    },
    {
      "cell_type": "code",
      "execution_count": null,
      "metadata": {
        "collapsed": false
      },
      "outputs": [],
      "source": [
        "R.preprocess(hc_filt=1.5, client='single')"
      ]
    },
    {
      "cell_type": "markdown",
      "metadata": {},
      "source": [
        "++++++++++++++++++++++++++++++++++++++++++++++++++++++++++++++++\n\nHere, again we have a change between the ``SAC`` workflow and the ``HDF5``\nworkflow because the RFs are saved in form of\n:class:`pyglimer.database.rfh5.RFDataBase`s. It is important to note that the\n``RFDataBase`` is an abstraction of an ``HDF5`` file that contains RF specific \nHeader info that cannot be saved in ASDF. So, we import the database class\nand query for the P receiver functions we computed. and output a stream.\n\n"
      ]
    },
    {
      "cell_type": "code",
      "execution_count": null,
      "metadata": {
        "collapsed": false
      },
      "outputs": [],
      "source": [
        "from pyglimer.database.rfh5 import RFDataBase\n\nnetwork = request_dict['network']\nstation = request_dict['station']\n\npath_to_rf = os.path.join(proj_dir, 'waveforms','RF','P', f'{network}.{station}.h5')\n\n# Open RF Database\nwith RFDataBase(path_to_rf, 'r') as rfdb:\n\n    # Query database for specific RFs\n    rfstream = rfdb.get_data('IU', 'HRV', 'P', '*', 'rf')\n\n# Print number of RFs queried\nprint(f\"Number of RFs: {len(rfstream)}\")"
      ]
    },
    {
      "cell_type": "markdown",
      "metadata": {},
      "source": [
        "PyGLImER is based on Obspy and hence, similar to ``obspy``, we can access\nthe ``Stats`` of a ``RFTrace`` in a ``RFStream``. The abstraction from obspy\nfollows a need for more (SAC) header information to handle RFs. Let's take\na look at the attributes.\n\n"
      ]
    },
    {
      "cell_type": "code",
      "execution_count": null,
      "metadata": {
        "collapsed": false
      },
      "outputs": [],
      "source": [
        "from pprint import pprint\n\nrftrace = rfstream[0]\npprint(rftrace.stats)"
      ]
    },
    {
      "cell_type": "markdown",
      "metadata": {},
      "source": [
        "## First Receiver function plots\n\nIf the Receiver functions haven't been further processed,\nthey are plotted as a function of time. A single receiver\nfunction in the stream will be plotted as function of time\nonly. A full stream can make use of the distance measure saved\nin the sac-header and plot an entire section as a function of\ntime and epicentral distance.\n\n### Plot single RF\n\nBelow we show how to plot the receiver function\nas a function of time, and the clean option, which plots\nthe receiver function without any axes or text.\n\n"
      ]
    },
    {
      "cell_type": "code",
      "execution_count": null,
      "metadata": {
        "collapsed": false
      },
      "outputs": [],
      "source": [
        "from pyglimer.plot.plot_utils import set_mpl_params\n\n# Plot RF\nrftrace.plot()"
      ]
    },
    {
      "cell_type": "markdown",
      "metadata": {},
      "source": [
        "Let's zoom into the first 20 seconds (~200km)\n\n"
      ]
    },
    {
      "cell_type": "code",
      "execution_count": null,
      "metadata": {
        "collapsed": false
      },
      "outputs": [],
      "source": [
        "rftrace.plot(lim=[0,20])"
      ]
    },
    {
      "cell_type": "markdown",
      "metadata": {},
      "source": [
        "### Plot RF section\n\nSince we have an entire stream of receiver functions at hand,\nwe can plot a section\n\n"
      ]
    },
    {
      "cell_type": "code",
      "execution_count": null,
      "metadata": {
        "collapsed": false
      },
      "outputs": [],
      "source": [
        "rfstream.plot(scalingfactor=1)"
      ]
    },
    {
      "cell_type": "markdown",
      "metadata": {},
      "source": [
        "Similar to the single RF plot we can provide time and \nepicentral distance limits:\n\n"
      ]
    },
    {
      "cell_type": "code",
      "execution_count": null,
      "metadata": {
        "collapsed": false
      },
      "outputs": [],
      "source": [
        "timelimits = (0, 20)  # seconds  \nepilimits = (32, 36)  # epicentral distance\nrfstream.plot(\n    scalingfactor=0.25, lim=timelimits, epilimits=epilimits,\n    linewidth=0.75)"
      ]
    },
    {
      "cell_type": "markdown",
      "metadata": {},
      "source": [
        "By increasing the scaling factor and removing the plotted lines, we can\nalready see trends:\n\n"
      ]
    },
    {
      "cell_type": "code",
      "execution_count": null,
      "metadata": {
        "collapsed": false
      },
      "outputs": [],
      "source": [
        "rfstream.plot(\n    scalingfactor=0.5, lim=timelimits, epilimits=epilimits, \n    line=False)"
      ]
    },
    {
      "cell_type": "markdown",
      "metadata": {},
      "source": [
        "As simple as that you can create your own receiver functions with \njust a single smalle script.\n"
      ]
    }
  ],
  "metadata": {
    "kernelspec": {
      "display_name": "Python 3",
      "language": "python",
      "name": "python3"
    },
    "language_info": {
      "codemirror_mode": {
        "name": "ipython",
        "version": 3
      },
      "file_extension": ".py",
      "mimetype": "text/x-python",
      "name": "python",
      "nbconvert_exporter": "python",
      "pygments_lexer": "ipython3",
      "version": "3.10.6"
    }
  },
  "nbformat": 4,
  "nbformat_minor": 0
}