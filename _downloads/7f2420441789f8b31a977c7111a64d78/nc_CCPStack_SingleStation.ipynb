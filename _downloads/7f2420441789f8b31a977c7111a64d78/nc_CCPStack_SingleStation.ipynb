{
  "cells": [
    {
      "cell_type": "code",
      "execution_count": null,
      "metadata": {
        "collapsed": false
      },
      "outputs": [],
      "source": [
        "%matplotlib inline"
      ]
    },
    {
      "cell_type": "markdown",
      "metadata": {},
      "source": [
        "\n# Common Conversion Point Stack of a Single Station\n\nThe following notebook carries you through how to get from \na set of receiver functions of a single station to a 3D \ncommon conversion point (CCP) stack. \nAs an example as in the previous notebooks,\nwe again use IU-HRV as example station. \n\n<div class=\"alert alert-info\"><h4>Note</h4><p>It is assumed here that you have successfully computed the\n    receiver functions from the `DataCollection{SAC | HDF5}.py`.</p></div>\n\n\n## Load the Receiver functions\n"
      ]
    },
    {
      "cell_type": "code",
      "execution_count": null,
      "metadata": {
        "collapsed": false
      },
      "outputs": [],
      "source": [
        "# sphinx_gallery_thumbnail_number = 1\n# sphinx_gallery_dummy_images = 1"
      ]
    },
    {
      "cell_type": "markdown",
      "metadata": {},
      "source": [
        "So, first load the receiver functions into a `RFStream`.\n\n"
      ]
    },
    {
      "cell_type": "code",
      "execution_count": null,
      "metadata": {
        "collapsed": false
      },
      "outputs": [],
      "source": [
        "import os\nimport matplotlib.pyplot as plt\nfrom pyglimer.rf.create import read_rf\nfrom pyglimer.plot.plot_utils import set_mpl_params\nset_mpl_params()\n\n# Define the location of the database\ndatabaselocation = os.path.join('static_data', 'database_sac')  # or \"database_hdf5\"\n\ntry: db_base_path = ipynb_path\nexcept NameError:\n    try: db_base_path = os.path.dirname(os.path.realpath(__file__))\n    except NameError: db_base_path = os.getcwd()\ndatabaselocation = os.path.join(db_base_path, databaselocation)\n\nrfst = read_rf(os.path.join(\n    databaselocation, 'waveforms', 'RF', 'P', 'IU', 'HRV', '*.sac'))\n\n# Check traces\nprint(\"Number of loaded RFs: \", len(rfst))\nrfst[0].plot()\nplt.show(block=False)"
      ]
    },
    {
      "cell_type": "markdown",
      "metadata": {},
      "source": [
        "## Compute Common Conversion Point Stack\n\nThis is similar to the single station stacks.\n\n\n"
      ]
    },
    {
      "cell_type": "code",
      "execution_count": null,
      "metadata": {
        "collapsed": false
      },
      "outputs": [],
      "source": [
        "from pyglimer.ccp import init_ccp\nimport os\nimport numpy as np\n\ninter_bin_distance = 0.1\nvelocity_model = 'iasp91.dat'\n\nccp_init_dict = {\n    'spacing': inter_bin_distance,\n    'vel_model': velocity_model,\n    \"binrad\": np.cos(np.radians(30)),\n    \"phase\": 'P',\n    \"preproloc\": os.path.join(databaselocation, \"waveforms\", \"preprocessed\"),\n    \"rfloc\": os.path.join(databaselocation, \"waveforms\", \"RF\"),\n    \"network\": \"IU\",\n    \"station\": \"HRV\",\n    \"compute_stack\": True,\n    \"save\": 'ccp_IU_HRV.pkl',\n    'format': 'sac',\n    'mc_backend': 'joblib',\n}\n\n# Initialize bins\nccpstack = init_ccp(**ccp_init_dict)"
      ]
    },
    {
      "cell_type": "markdown",
      "metadata": {},
      "source": [
        "Finalizing the CCP Stack checking whether locations are on-land or not.\n\n"
      ]
    },
    {
      "cell_type": "code",
      "execution_count": null,
      "metadata": {
        "collapsed": false
      },
      "outputs": [],
      "source": [
        "ccpstack.conclude_ccp(keep_water=True)"
      ]
    },
    {
      "cell_type": "markdown",
      "metadata": {},
      "source": [
        "## Plot Bins\n\n"
      ]
    },
    {
      "cell_type": "code",
      "execution_count": null,
      "metadata": {
        "collapsed": false
      },
      "outputs": [],
      "source": [
        "import matplotlib.pyplot as plt\nccpstack.plot_bins()"
      ]
    },
    {
      "cell_type": "markdown",
      "metadata": {},
      "source": [
        "## Use the ``CCPStack`` object to image the subsurface\n\nGiven a ``CCPStack`` object there are multiple ways of getting an image of \nthe subsurface. You could either compute a three-dimensional volume and plot \nslices with respect to the volume or you can create cross sections slices.\n\n### Compute a volume and slice\n\nTo do that we first need to read the created ``CCPStack``. Second, we create\na discretization for the are of interest, and third, we compute the volume and\nsome slices.\n\n"
      ]
    },
    {
      "cell_type": "code",
      "execution_count": null,
      "metadata": {
        "collapsed": false
      },
      "outputs": [],
      "source": [
        "import numpy as np\nfrom pyglimer.ccp.ccp import read_ccp\n\n# Reading the stack\nccpstack = read_ccp(filename='ccp_IU_HRV.pkl', fmt=None)\n\n# Create discretization\nlats = np.arange(41, 43.5, 0.05)\nlons = np.arange(-72.7, -69.5, 0.05)\nz = np.linspace(-10, 200, 211)\n\n# Plotting the volume and slices\nvplot = ccpstack.plot_volume_sections(\n    lons, lats, zmax=211, lonsl=-71.45, latsl=42.5, zsl=23)"
      ]
    },
    {
      "cell_type": "markdown",
      "metadata": {},
      "source": [
        "### Slice ``CCPStack`` directly using\n\nHere we first define two slices with their waypoints, and then plot a cross \nsection in the back end, both RF sections and Illumination section are \ncomputed using a KDTree algorithm taking as input the ``CCPStack`` locations.\nFor the illumination, this sometimes leads to weird results; see profile A\n\n\n"
      ]
    },
    {
      "cell_type": "code",
      "execution_count": null,
      "metadata": {
        "collapsed": false
      },
      "outputs": [],
      "source": [
        "# Create points waypoints for the cross section\nlat0 = np.array([42.5, 42.5])\nlon0 = np.array([-72.7, -69.5])\nlat1 = np.array([41.5, 43.5])\nlon1 = np.array([-71.45, -71.45])\n\n# Set RF boundaries\nmapextent=[-73.5, -69, 41, 44]\ndepthextent=[0, 200]\nvmin = -0.1\nvmax =  0.1\n \n# Plot cross sections\nax1, geoax = ccpstack.plot_cross_section(\n    lat0, lon0, ddeg=0.01, z0=23, vmin=vmin, vmax=vmax,\n    mapplot=True, minillum=1, label=\"A\",\n    depthextent=depthextent,\n    mapextent=mapextent)\nax2, _ = ccpstack.plot_cross_section(\n    lat1, lon1, ddeg=0.01, vmin=vmin, vmax=vmax,\n    geoax=geoax, mapplot=True,  \n    minillum=1, label=\"B\",\n    depthextent=depthextent)\nplt.show(block=False)"
      ]
    },
    {
      "cell_type": "markdown",
      "metadata": {},
      "source": [
        "Note that here we are only running the example only with a very limited\ndataset, for which CCP Stacking makes limited sense. It still gives you\nan idea on how you could do this for a larger area.\n``z0`` here is the depth of the illumination map and ``minillum`` the minimum \nnumber of hitpoints per bin to be counted.\n\n<div class=\"alert alert-info\"><h4>Note</h4><p>The waypoints do not have to be just start and endpoint, they can be a \n    series of points.</p></div>\n\n### Compute a \"dirty\" global stack\n\nIn short, we are assuming that latitudes and longitudes are cartesian\nentities, with a small correction for the area of each bin that depends on the\nchange in metric width of a degree of longitude as a function of latitude.\nThis really is a dirty way of interpolation because the spherical nature of\nthe Earth is disregarded.\n\nWe first read the RFs needed for the computation\n\n"
      ]
    },
    {
      "cell_type": "code",
      "execution_count": null,
      "metadata": {
        "collapsed": false
      },
      "outputs": [],
      "source": [
        "from pyglimer.rf.create import read_rf\nfrom pyglimer.plot.plot_utils import set_mpl_params\nset_mpl_params()\n\nrfst = read_rf(f\"{databaselocation}/waveforms/RF/P/IU/HRV/*.sac\")"
      ]
    },
    {
      "cell_type": "markdown",
      "metadata": {},
      "source": [
        "Then, we migrate the receiver functions, i.e., move-out correct the RFs wrt.\nto a given model\n\n"
      ]
    },
    {
      "cell_type": "code",
      "execution_count": null,
      "metadata": {
        "collapsed": false
      },
      "outputs": [],
      "source": [
        "z, rfz = rfst.moveout(vmodel='iasp91.dat')"
      ]
    },
    {
      "cell_type": "markdown",
      "metadata": {},
      "source": [
        "and, compute the CCP volume like a 3D histogram by providing the extent \nof the region of interest, and ``dlon``, which describes the longitudinal\nspacing.\n\n<div class=\"alert alert-info\"><h4>Note</h4><p>The latitudinal spacing is automatically computed.</p></div>\n\n"
      ]
    },
    {
      "cell_type": "code",
      "execution_count": null,
      "metadata": {
        "collapsed": false
      },
      "outputs": [],
      "source": [
        "# Set extent=[minlon, maxlon, minlat, maxlat]\nextent = [-72.7, -69.5, 41, 43.5]\n\n# Compute Dirty Stack\nlatc, lonc, zc, ccp, illum = rfz.dirty_ccp_stack(dlon=0.075, extent=extent)"
      ]
    },
    {
      "cell_type": "markdown",
      "metadata": {},
      "source": [
        "Then, we can use the 3D histogram to plot the stack using the same tool \nas the 'clean' stacking.\n\n"
      ]
    },
    {
      "cell_type": "code",
      "execution_count": null,
      "metadata": {
        "collapsed": false
      },
      "outputs": [],
      "source": [
        "from pyglimer.plot.plot_volume import VolumePlot\n\nvp = VolumePlot(lonc, latc, zc[:211], ccp[:,:,:211], xl=-71.45, yl=42.5, zl=23)\nplt.show(block=False)"
      ]
    }
  ],
  "metadata": {
    "kernelspec": {
      "display_name": "Python 3",
      "language": "python",
      "name": "python3"
    },
    "language_info": {
      "codemirror_mode": {
        "name": "ipython",
        "version": 3
      },
      "file_extension": ".py",
      "mimetype": "text/x-python",
      "name": "python",
      "nbconvert_exporter": "python",
      "pygments_lexer": "ipython3",
      "version": "3.10.6"
    }
  },
  "nbformat": 4,
  "nbformat_minor": 0
}